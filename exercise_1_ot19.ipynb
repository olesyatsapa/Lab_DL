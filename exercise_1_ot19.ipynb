{
 "cells": [
  {
   "cell_type": "code",
   "execution_count": 25,
   "metadata": {
    "collapsed": false
   },
   "outputs": [],
   "source": [
    "import numpy as np\n",
    "#import cPickle\n",
    "import _pickle as cPickle\n",
    "import os\n",
    "import gzip\n",
    "import matplotlib.pyplot as plt"
   ]
  },
  {
   "cell_type": "markdown",
   "metadata": {},
   "source": [
    "# First exercise: Classifying MNIST with MLPs\n",
    "In this exercise you will implement a Neural Network (or MLP) and classify the MNIST digits with it.\n",
    "MNIST is a \"well hung\" dataset that has been used a lot over the years to benchmark different classification algorithms. \n",
    "To learn more about it have a look here: http://yann.lecun.com/exdb/mnist/ ."
   ]
  },
  {
   "cell_type": "markdown",
   "metadata": {},
   "source": [
    "# Data Loading\n",
    "We first define a function for downloading and loading MNIST.\n",
    "**WARNING**: Executing it will obviously use up some space on your machine ;). "
   ]
  },
  {
   "cell_type": "code",
   "execution_count": 26,
   "metadata": {
    "collapsed": true
   },
   "outputs": [],
   "source": [
    "def mnist(datasets_dir='./data'):\n",
    "    if not os.path.exists(datasets_dir):\n",
    "        os.mkdir(datasets_dir)\n",
    "    data_file = os.path.join(datasets_dir, 'mnist.pkl.gz')\n",
    "    if not os.path.exists(data_file):\n",
    "        print('... downloading MNIST from the web')\n",
    "        try:\n",
    "            import urllib\n",
    "            urllib.urlretrieve('http://google.com')\n",
    "        except AttributeError:\n",
    "            import urllib.request as urllib\n",
    "        url = 'http://www.iro.umontreal.ca/~lisa/deep/data/mnist/mnist.pkl.gz'\n",
    "        urllib.urlretrieve(url, data_file)\n",
    "\n",
    "    print('... loading data')\n",
    "    # Load the dataset\n",
    "    f = gzip.open(data_file, 'rb')\n",
    "    try:\n",
    "        train_set, valid_set, test_set = cPickle.load(f, encoding=\"latin1\")\n",
    "    except TypeError:\n",
    "        train_set, valid_set, test_set = cPickle.load(f)\n",
    "    f.close()\n",
    "\n",
    "    test_x, test_y = test_set\n",
    "    test_x = test_x.astype('float32')\n",
    "    test_x = test_x.astype('float32').reshape(test_x.shape[0], 1, 28, 28)\n",
    "    test_y = test_y.astype('int32')\n",
    "    valid_x, valid_y = valid_set\n",
    "    valid_x = valid_x.astype('float32')\n",
    "    valid_x = valid_x.astype('float32').reshape(valid_x.shape[0], 1, 28, 28)\n",
    "    valid_y = valid_y.astype('int32')\n",
    "    train_x, train_y = train_set\n",
    "    train_x = train_x.astype('float32').reshape(train_x.shape[0], 1, 28, 28)\n",
    "    train_y = train_y.astype('int32')\n",
    "    rval = [(train_x, train_y), (valid_x, valid_y), (test_x, test_y)]\n",
    "    print('... done loading data')\n",
    "    return rval"
   ]
  },
  {
   "cell_type": "markdown",
   "metadata": {},
   "source": [
    "# Neural Network Layers\n",
    "We now define \"bare bone\" neural network layers.\n",
    "The parts marked with **TODO** are where you should finish the implementation!\n",
    "Conceptually we will implement the layers as follows:\n",
    "\n",
    "Each layer has a constructor that takes an input layer plus some additional arguments such as layer size and the activation function name. The layer then uses the provided input layer to compute the layer dimensions, weight shapes, etc. and setup all auxilliary variables.\n",
    "\n",
    "Each layer then has to provide three functions (as defined in the Layer class below): *output_shape()*, *fprop()* and *brop()*. The output_shape function is used to figure out the shape for the next layer and the *fprop()/bprop()* functions are used to compute forward and backward passes through the network."
   ]
  },
  {
   "cell_type": "code",
   "execution_count": 27,
   "metadata": {
    "collapsed": false
   },
   "outputs": [],
   "source": [
    "# start by defining simple helpers\n",
    "def sigmoid(x):\n",
    "    return 1.0/(1.0+np.exp(-x))\n",
    "\n",
    "def sigmoid_d(x):\n",
    "    # TODO ################\n",
    "    # TODO: implement this! Done\n",
    "    # TODO ################\n",
    "    return sigmoid(x)*(1-sigmoid(x))\n",
    "\n",
    "def tanh(x):\n",
    "    return np.tanh(x)\n",
    "\n",
    "def tanh_d(x):\n",
    "    # TODO ################\n",
    "    # TODO: implement this! Done\n",
    "    # TODO ################\n",
    "    dx = np.zeros_like(x)\n",
    "    dx[:] = (1.0-tanh(x)*tanh(x))\n",
    "    return dx\n",
    "\n",
    "\n",
    "def relu(x):\n",
    "    return np.maximum(0.0, x)\n",
    "\n",
    "def relu_d(x):\n",
    "    # TODO ################\n",
    "    # TODO: implement this! Done\n",
    "    # TODO ################\n",
    "    dx = np.zeros_like(x)\n",
    "    dx[x > 0] = 1.0\n",
    "    return dx\n",
    "\n",
    "def softmax(x, axis=1):\n",
    "    # to make the softmax a \"safe\" operation we will \n",
    "    # first subtract the maximum along the specified axis\n",
    "    # so that np.exp(x) does not blow up!\n",
    "    # Note that this does not change the output.\n",
    "    x_max = np.max(x, axis=axis, keepdims=True)\n",
    "    x_safe = x - x_max\n",
    "    e_x = np.exp(x_safe)\n",
    "    return e_x / np.sum(e_x, axis=axis, keepdims=True)\n",
    "\n",
    "def one_hot(labels):\n",
    "    \"\"\"this creates a one hot encoding from a flat vector:\n",
    "    i.e. given y = [0,2,1]\n",
    "     it creates y_one_hot = [[1,0,0], [0,0,1], [0,1,0]]\n",
    "    \"\"\"\n",
    "    classes = np.unique(labels)\n",
    "    n_classes = classes.size\n",
    "    one_hot_labels = np.zeros(labels.shape + (n_classes,))\n",
    "    for c in classes:\n",
    "        one_hot_labels[labels == c, c] = 1\n",
    "    return one_hot_labels\n",
    "\n",
    "def unhot(one_hot_labels):\n",
    "    \"\"\" Invert a one hot encoding, creating a flat vector \"\"\"\n",
    "    return np.argmax(one_hot_labels, axis=-1)\n",
    "\n",
    "# then define an activation function class\n",
    "class Activation(object):\n",
    "    \n",
    "    def __init__(self, tname):\n",
    "        self.temp_name=tname\n",
    "        if tname == 'sigmoid':\n",
    "            self.act = sigmoid\n",
    "            self.act_d = sigmoid_d\n",
    "        elif tname == 'tanh':\n",
    "            self.act = tanh\n",
    "            self.act_d = tanh_d\n",
    "        elif tname == 'relu':\n",
    "            self.act = relu\n",
    "            self.act_d = relu_d\n",
    "        else:\n",
    "            raise ValueError('Invalid activation function.')\n",
    "            \n",
    "    def fprop(self, input):\n",
    "        # we need to remember the last input\n",
    "        # so that we can calculate the derivative with respect\n",
    "        # to it later on\n",
    "        self.last_input = input\n",
    "        return self.act(input)\n",
    "    \n",
    "    def bprop(self, output_grad):\n",
    "        return output_grad * self.act_d(self.last_input)\n",
    "\n",
    "# define a base class for layers\n",
    "class Layer(object):\n",
    "    \n",
    "    def fprop(self, input):\n",
    "        \"\"\" Calculate layer output for given input \n",
    "            (forward propagation). \n",
    "        \"\"\"\n",
    "        raise NotImplementedError('This is an interface class, please use a derived instance')\n",
    "\n",
    "    def bprop(self, output_grad):\n",
    "        \"\"\" Calculate input gradient and gradient \n",
    "            with respect to weights and bias (backpropagation). \n",
    "        \"\"\"\n",
    "        raise NotImplementedError('This is an interface class, please use a derived instance')\n",
    "\n",
    "    def output_size(self):\n",
    "        \"\"\" Calculate size of this layer's output.\n",
    "        input_shape[0] is the number of samples in the input.\n",
    "        input_shape[1:] is the shape of the feature.\n",
    "        \"\"\"\n",
    "        raise NotImplementedError('This is an interface class, please use a derived instance')\n",
    "\n",
    "# define a base class for loss outputs\n",
    "# an output layer can then simply be derived\n",
    "# from both Layer and Loss \n",
    "class Loss(object):\n",
    "\n",
    "    def loss(self, output, output_net):\n",
    "        \"\"\" Calculate mean loss given real output and network output. \"\"\"\n",
    "        raise NotImplementedError('This is an interface class, please use a derived instance')\n",
    "\n",
    "    def input_grad(self, output, output_net):\n",
    "        \"\"\" Calculate input gradient real output and network output. \"\"\"\n",
    "        raise NotImplementedError('This is an interface class, please use a derived instance')\n",
    "\n",
    "# define a base class for parameterized things        \n",
    "class Parameterized(object):\n",
    "    \n",
    "    def params(self):\n",
    "        \"\"\" Return parameters (by reference) \"\"\"\n",
    "        raise NotImplementedError('This is an interface class, please use a derived instance')\n",
    "    \n",
    "    def grad_params(self):\n",
    "        \"\"\" Return accumulated gradient with respect to params. \"\"\"\n",
    "        raise NotImplementedError('This is an interface class, please use a derived instance')\n",
    "\n",
    "# define a container for providing input to the network\n",
    "class InputLayer(Layer):\n",
    "    \n",
    "    def __init__(self, input_shape):\n",
    "        if not isinstance(input_shape, tuple):\n",
    "            raise ValueError(\"InputLayer requires input_shape as a tuple\")\n",
    "        self.input_shape = input_shape\n",
    "\n",
    "    def output_size(self):\n",
    "        return self.input_shape\n",
    "    \n",
    "    def fprop(self, input):\n",
    "        return input\n",
    "    \n",
    "    def bprop(self, output_grad):\n",
    "        return output_grad\n",
    "        \n",
    "class FullyConnectedLayer(Layer, Parameterized):\n",
    "    \"\"\" A standard fully connected hidden layer, as discussed in the lecture.\n",
    "    \"\"\"\n",
    "    \n",
    "    def __init__(self, input_layer, num_units, \n",
    "                 init_stddev, activation_fun=Activation('relu')):\n",
    "        self.num_units = num_units\n",
    "        self.activation_fun = activation_fun\n",
    "        # the input shape will be of size (batch_size, num_units_prev) \n",
    "        # where num_units_prev is the number of units in the input \n",
    "        # (previous) layer\n",
    "        self.input_shape = input_layer.output_size()\n",
    "        # TODO ################################\n",
    "        # TODO: implement weight initialization\n",
    "        # TODO ################################\n",
    "        # this is the weight matrix it should have shape: (num_units_prev, num_units)\n",
    "        \n",
    "        weights_shape = (self.input_shape[1], self.num_units)\n",
    "        #bias_shape = (1, self.num_units)\n",
    "        bias_shape = (self.num_units)\n",
    "\n",
    "        # We initialize the weights with a Gaussian distribution\n",
    "        self.W = np.random.standard_normal(weights_shape) * init_stddev\n",
    "        # and this is the bias vector of shape: (num_units)\n",
    "        self.b = np.zeros(bias_shape)\n",
    "        \n",
    "        # create dummy variables for parameter gradients\n",
    "        # no need to change these here!\n",
    "        self.dW = None\n",
    "        self.db = None\n",
    "    \n",
    "    def output_size(self):\n",
    "        return (self.input_shape[0], self.num_units)\n",
    "    \n",
    "    def fprop(self, input):\n",
    "        # TODO ################################################\n",
    "        # TODO: implement forward propagation\n",
    "        # NOTE: you should also handle the case were \n",
    "        #       activation_fun is None (meaning no activation)\n",
    "        #       then this is simply a linear layer\n",
    "        # TODO ################################################\n",
    "        # you again want to cache the last_input for the bprop\n",
    "        # implementation below!\n",
    "        self.last_input = input\n",
    "        #FIXME\n",
    "        \n",
    "        \n",
    "        a = np.dot(self.last_input,self.W) + self.b\n",
    "        #a = np.dot(self.W, self.last_input) + self.b\n",
    "        if self.activation_fun != None:\n",
    "            z = self.activation_fun.fprop(a)\n",
    "        else:\n",
    "            #print(\"else f\")\n",
    "            z = np.copy(a)\n",
    "        #print(\"a\",a)\n",
    "        #print(\"z\",z)\n",
    "        #raise NotImplementedError(\"You should implement this!\")\n",
    "        #return np.zeros(self.output_size)\n",
    "        return z\n",
    "        \n",
    "    def bprop(self, output_grad):\n",
    "        \"\"\" Calculate input gradient (backpropagation). \"\"\"\n",
    "        # TODO ################################\n",
    "        # TODO: implement backward propagation\n",
    "        # TODO ###############################\n",
    "        \n",
    "        # HINT: you may have to divide the weights by n\n",
    "        #       to make gradient checking work \n",
    "        #       (since you want to divide the loss by number of inputs)\n",
    "        n = output_grad.shape[0]\n",
    "        # accumulate gradient wrt. the parameters first\n",
    "        # we will need to store these to later update\n",
    "        # the network after a few forward backward passes\n",
    "        # the gradient wrt. W should be stored as self.dW\n",
    "        # the gradient wrt. b should be stored as self.db\n",
    "        \n",
    "        #raise NotImplementedError(\"you should implement this\")\n",
    "        \n",
    "       \n",
    "        dLda = np.copy(output_grad)\n",
    "        \n",
    "        if self.activation_fun != None:\n",
    "            dLda = self.activation_fun.bprop(output_grad)\n",
    "        \n",
    "        \n",
    "        \n",
    "        # the gradient wrt. the input should be calculated here      \n",
    "        self.dW = np.dot(self.last_input.T,dLda)#/float(n) #FIXME\n",
    "        self.db = np.sum(dLda, axis=0)#/float(n) #FIXME\n",
    "        \n",
    "        #print(\"self.dW=\",self.dW.shape)\n",
    "        #print(\"self.db=\",self.db.shape)\n",
    "        \n",
    "        #dLdz = np.dot(dLda, (1.0/float(n))*self.W.T ) #???\n",
    "        dLdz = np.dot(dLda, self.W.T)\n",
    "        \n",
    "        #grad_input = np.zeros_like(self.last_input)\n",
    "        #return grad_input\n",
    "        \n",
    "        return dLdz\n",
    "        \n",
    "    def params(self):\n",
    "        return self.W, self.b\n",
    "\n",
    "    def grad_params(self):\n",
    "        return self.dW, self.db\n",
    "\n",
    "# finally we specify the interface for output layers \n",
    "# which are layers that also have a loss function\n",
    "# we will implement two output layers:\n",
    "#  a Linear, and Softmax (Logistic Regression) layer\n",
    "# The difference between output layers and and normal \n",
    "# layers is that they will be called to compute the gradient\n",
    "# of the loss through input_grad(). bprop will never \n",
    "# be called on them!\n",
    "class LinearOutput(Layer, Loss):\n",
    "    \"\"\" A simple linear output layer that  \n",
    "        uses a squared loss (e.g. should be used for regression)\n",
    "    \"\"\"\n",
    "    def __init__(self, input_layer):\n",
    "        self.input_size = input_layer.output_size()\n",
    "        \n",
    "    def output_size(self):\n",
    "        return (1,)\n",
    "        \n",
    "    def fprop(self, input):\n",
    "        return input\n",
    "\n",
    "    def bprop(self, output_grad):\n",
    "        raise NotImplementedError(\n",
    "            'LinearOutput should only be used as the last layer of a Network'\n",
    "            + ' bprop() should thus never be called on it!'\n",
    "        )\n",
    "    \n",
    "    def input_grad(self, Y, Y_pred):\n",
    "        # TODO ####################################\n",
    "        # TODO: implement gradient of squared loss - Done\n",
    "        # TODO ####################################\n",
    "        #print(\"(Y_pred - Y) / float(Y.shape[0])=\",(Y_pred - Y) / float(Y.shape[0]))\n",
    "        return (Y_pred - Y) / (Y.shape[0])\n",
    "        #return np.zeros_like(Y_pred) #FIXME\n",
    "\n",
    "    def loss(self, Y, Y_pred):\n",
    "        loss = 0.5 * np.square(Y_pred-Y)\n",
    "        return np.mean(np.sum(loss, axis=1)) \n",
    "\n",
    "class SoftmaxOutput(Layer, Loss):\n",
    "    \"\"\" A softmax output layer that calculates \n",
    "        the negative log likelihood as loss\n",
    "        and should be used for classification.\n",
    "    \"\"\"\n",
    "    \n",
    "    def __init__(self, input_layer):\n",
    "        self.input_size = input_layer.output_size()\n",
    "        \n",
    "    def output_size(self):\n",
    "        return (1,)\n",
    "    \n",
    "    def fprop(self, input):\n",
    "        return softmax(input)\n",
    "    \n",
    "    def bprop(self, output_grad):\n",
    "        raise NotImplementedError(\n",
    "            'SoftmaxOutput should only be used as the last layer of a Network'\n",
    "            + ' bprop() should thus never be called on it!'\n",
    "        )\n",
    "    \n",
    "    def input_grad(self, Y, Y_pred):\n",
    "        # TODO #######################################################\n",
    "        # TODO: implement gradient of the negative log likelihood loss \n",
    "        # TODO #######################################################\n",
    "        # HINT: since this would involve taking the log \n",
    "        #       of the softmax (which is np.exp(x)/np.sum(x, axis=1))\n",
    "        #       this gradient computation can be simplified a lot! \n",
    "        #return np.zeros_like(Y_pred)\n",
    "        \n",
    "        #print(\"Y_pred.shape\",Y_pred.shape)\n",
    "        #print(\"Y.shape\",Y.shape)\n",
    "        \n",
    "        \n",
    "        #return (Y_pred - Y) / float(Y.shape[0]) #Bishop's formula 5.18\n",
    "        #out = softmax(Y_pred)\n",
    "        return (Y_pred - Y) / (Y.shape[0])\n",
    "        #return (Y_pred - Y)\n",
    "        \n",
    "\n",
    "    def loss(self, Y, Y_pred):\n",
    "        # Assume one-hot encoding of Y\n",
    "        # calculate softmax first\n",
    "        out = Y_pred\n",
    "        # to make the loss numerically stable \n",
    "        # you may want to add an epsilon in the log ;)\n",
    "        eps = 1e-10\n",
    "        # TODO ####################################\n",
    "        # calculate negative log likelihood\n",
    "        # TODO ####################################\n",
    "        #loss = np.zeros_like(out) #FIXME\n",
    "        \n",
    "        \n",
    "        loss = - np.log(out+eps)*Y \n",
    "        return np.mean(np.sum(loss, axis=1))\n",
    "        #print(loss.shape)\n",
    "        #return np.mean(loss) \n",
    "        #return np.sum(loss)\n",
    "        "
   ]
  },
  {
   "cell_type": "markdown",
   "metadata": {},
   "source": [
    "# Neural Network class\n",
    "With all layers in place (and properly implemented by you) we can finally define a neural network.\n",
    "For our purposes a neural network is simply a collection of layers which we will cycle through and on which we will call fprop and bprop to compute partial derivatives with respect to the input and the parameters.\n",
    "\n",
    "Pay special attention to the *check_gradients()* function in which you should implement automatic differentiation. This function will become your best friend when checking the correctness of your implementation."
   ]
  },
  {
   "cell_type": "code",
   "execution_count": 283,
   "metadata": {
    "collapsed": false
   },
   "outputs": [],
   "source": [
    "\n",
    "class NeuralNetwork:\n",
    "    \"\"\" Our Neural Network container class.\n",
    "    \"\"\"\n",
    "    def __init__(self, layers):\n",
    "        self.layers = layers\n",
    "        \n",
    "    def _loss(self, X, Y):\n",
    "        Y_pred = self.predict(X)\n",
    "        return self.layers[-1].loss(Y, Y_pred)\n",
    "\n",
    "    def predict(self, X):\n",
    "        \"\"\" Calculate an output Y for the given input X. \"\"\"\n",
    "        # TODO ##########################################\n",
    "        # TODO: implement forward pass through all layers\n",
    "        # TODO ##########################################\n",
    "        temp_input = np.copy(X)\n",
    "        #print(\"len(self.layers)\",len(self.layers))\n",
    "        for i in range(len(self.layers)):\n",
    "            #print(temp_input)\n",
    "            temp_input = self.layers[i].fprop(temp_input)\n",
    "           \n",
    "        #Y_pred = 0.\n",
    "        #Y_pred=temp_input\n",
    "        return temp_input\n",
    "    \n",
    "    def backpropagate(self, Y, Y_pred, upto=0):\n",
    "        \"\"\" Backpropagation of partial derivatives through \n",
    "            the complete network up to layer 'upto'\n",
    "        \"\"\"\n",
    "        next_grad = self.layers[-1].input_grad(Y, Y_pred)\n",
    "        # TODO ##########################################\n",
    "        # TODO: implement forward pass through all layers\n",
    "        # TODO ##########################################\n",
    "        \n",
    "        for i in reversed(range(upto,len(self.layers)-1)):\n",
    "        #    print(\"layer=\",i)\n",
    "            next_grad = self.layers[i].bprop(next_grad )\n",
    "        \n",
    "            \n",
    "        \n",
    "        return next_grad\n",
    "    \n",
    "    def classification_error(self, X, Y,print_error=False):\n",
    "        \"\"\" Calculate error on the given data \n",
    "            assuming they are classes that should be predicted. \n",
    "        \"\"\"\n",
    "        Y_pred = unhot(self.predict(X))\n",
    "        error = Y_pred != Y\n",
    "        if (print_error==True):\n",
    "            X_prime = X[error!=False]\n",
    "            Y_pred_prime = Y_pred[error!=False]\n",
    "            Y_prime = Y[error!=False]\n",
    "            X_prime = X_prime.reshape([-1,np.sqrt(X_prime.shape[1]),np.sqrt(X_prime.shape[1])])\n",
    "            \n",
    "            X_good = X[error!=True]\n",
    "            Y_good = Y_pred[error!=True]\n",
    "            X_good = X_good.reshape([-1,np.sqrt(X_good.shape[1]),np.sqrt(X_good.shape[1])])\n",
    "\n",
    "            print(\"Incorrect classification\")\n",
    "            for i in range(0,5):\n",
    "                imgplot = plt.imshow(X_prime[i,:,:])\n",
    "                print(\"Y\",Y_prime[i])\n",
    "                print(\"Y_pred\",Y_pred_prime[i])\n",
    "                plt.show()\n",
    "            print(\"*********************************\")\n",
    "            print(\"Correct classification\")\n",
    "            for i in range(0,5):\n",
    "                imgplot = plt.imshow(X_good[i,:,:])\n",
    "                print(\"Y\",Y_good[i])\n",
    "                plt.show()\n",
    "\n",
    "        return np.mean(error)\n",
    "    \n",
    "    \n",
    "    \n",
    "    # implement different type of updating our weights: adam and classical vanilla versions\n",
    "    def update_network(self, learning_rate=0.1):\n",
    "        \n",
    "        \n",
    "        # make huge arrays of params and gradients for universal update\n",
    "        gradients=[]\n",
    "        parameters=[]\n",
    "        for i in range(len(self.layers)-2):\n",
    "            dW, db = self.layers[i+1].grad_params()\n",
    "            W, b = self.layers[i+1].params()\n",
    "            gradients.append(dW)\n",
    "            gradients.append(db)\n",
    "            parameters.append(W)\n",
    "            parameters.append(b)\n",
    "\n",
    "        # First determine which update method is going to be used\n",
    "        if self.update_method.lower() == 'adam':\n",
    "           \n",
    "            self.t += 1\n",
    "            \n",
    "            # Hyperparameters for Adam\n",
    "            step_size = 1e-3\n",
    "            grad_decay = 0.9\n",
    "            grad_squared_decay = 0.95\n",
    "            delta = 1e-8\n",
    "\n",
    "            for i, grad in enumerate(gradients):\n",
    "                if (self.t==1):\n",
    "                    # if it's the first time when we update our weights\n",
    "                    # we need to initialize running means for the gradients and squared gradients\n",
    "                    self.s = [np.zeros_like(p) for p in parameters]\n",
    "                    self.r = [np.zeros_like(p) for p in parameters]\n",
    "                    \n",
    "                # Update the running means\n",
    "                self.s[i][:] = grad_decay * self.s[i] + (1 - grad_decay) * grad\n",
    "                self.r[i][:] = grad_squared_decay * self.r[i] + (1 - grad_squared_decay) * grad**2\n",
    "\n",
    "                # Correct the initial bias\n",
    "                self.s[i][:] = self.s[i] / (1 - grad_decay**self.t)\n",
    "                self.r[i][:] = self.r[i] / (1 - grad_squared_decay**self.t)\n",
    "\n",
    "                # Update the weights\n",
    "                weight_update = -step_size * self.s[i] / (np.sqrt(self.r[i]) + delta)\n",
    "                parameters[i][:] = parameters[i] + weight_update\n",
    "\n",
    "        else:\n",
    "            # vanilla gradient descent\n",
    "            for i, grad in enumerate(gradients):\n",
    "                parameters[i][:] = parameters[i] - learning_rate * grad\n",
    "        \n",
    "            \n",
    "            \n",
    "    \n",
    "    \n",
    "    def sgd_epoch(self, X, Y, learning_rate, batch_size):\n",
    "        n_samples = X.shape[0]\n",
    "        n_batches = n_samples // batch_size\n",
    "        for b in range(n_batches):\n",
    "            # TODO #####################################\n",
    "            # Implement stochastic gradient descent here\n",
    "            # TODO #####################################\n",
    "            # start by extracting a batch from X and Y\n",
    "            # (you can assume the inputs are already shuffled)\n",
    "           \n",
    "            batch_start = b * batch_size\n",
    "            batch_end = (b + 1) * batch_size\n",
    "        \n",
    "            X_batch = X[batch_start:batch_end]\n",
    "            y_batch = Y[batch_start:batch_end]\n",
    "            \n",
    "            \n",
    "            # TODO: then forward and backward propagation + updates\n",
    "            # HINT: layer.params() returns parameters *by reference*\n",
    "            #       so you can easily update in-place\n",
    "            \n",
    "           \n",
    "            # Get the gradient via forward and backward pass\n",
    "            y_batch_pred = self.predict(X_batch)\n",
    "            self.backpropagate(y_batch, y_batch_pred)\n",
    "            \n",
    "            self.update_network(learning_rate=learning_rate) \n",
    "            \n",
    "            #for i in range(len(self.layers)-2):\n",
    "            #    var_W, var_b = self.layers[i+1].params()   \n",
    "            #    var_W[:] = self.layers[i+1].W[:] -  learning_rate * self.layers[i+1].dW[:]\n",
    "            #    var_b[:] = self.layers[i+1].b[:] -  learning_rate * self.layers[i+1].db[:]\n",
    "                \n",
    "\n",
    "            pass\n",
    "    \n",
    "    def gd_epoch(self, X, Y, learning_rate):\n",
    "        # TODO ##################################################\n",
    "        # Implement batch gradient descent here\n",
    "        # A few hints:\n",
    "        #   There are two strategies you can follow:\n",
    "        #   Either shove the whole dataset throught the network\n",
    "        #   at once (which can be problematic for large datasets)\n",
    "        #   or run through it batch wise as in the sgd approach\n",
    "        #   and accumulate the gradients for all parameters as\n",
    "        #   you go through the data. Either way you should then\n",
    "        #   do one gradient step after you went through the\n",
    "        #   complete dataset!\n",
    "        # TODO ##################################################\n",
    "        y_pred = self.predict(X)\n",
    "        self.backpropagate(Y, y_pred)\n",
    "        \n",
    "        self.update_network(learning_rate=learning_rate) \n",
    "        pass\n",
    "    \n",
    "\n",
    "    \n",
    "    def train(self, X, Y, X_valid, Y_valid, learning_rate=0.1, max_epochs=100, batch_size=64,\n",
    "              descent_type=\"sgd\",update_method=\"vanilla\", y_one_hot=True):\n",
    "\n",
    "        \"\"\" Train network on the given data. \"\"\"\n",
    "        n_samples = X.shape[0]\n",
    "        n_batches = n_samples // batch_size\n",
    "        if y_one_hot:\n",
    "            Y_train = one_hot(Y)\n",
    "        else:\n",
    "            Y_train = Y\n",
    "        print(\"... starting training\")\n",
    "        \n",
    "        # I keep track of training and validation error for each episode for plotting\n",
    "        train_loss = np.ones(max_epochs+1) * np.nan\n",
    "        train_error = np.ones(max_epochs+1) * np.nan\n",
    "        valid_error =  np.ones(max_epochs+1) * np.nan\n",
    "        \n",
    "        \n",
    "        \n",
    "        \n",
    "        # Bookkeeping for Adam\n",
    "        self.t = 0\n",
    "        \n",
    "        self.update_method = update_method\n",
    "        \n",
    "        for e in range(max_epochs+1):\n",
    "            if descent_type == \"sgd\":\n",
    "                self.sgd_epoch(X, Y_train, learning_rate, batch_size)\n",
    "            elif descent_type == \"gd\":\n",
    "                self.gd_epoch(X, Y_train, learning_rate)\n",
    "            else:\n",
    "                raise NotImplementedError(\"Unknown gradient descent type {}\".format(descent_type))\n",
    "\n",
    "            # Output error on the training data\n",
    "            train_loss[e] = self._loss(X, Y_train)\n",
    "            train_error[e] = self.classification_error(X, Y)\n",
    "            # TODO ##################################################\n",
    "            # compute error on validation data:\n",
    "            # simply make the function take validation data as input\n",
    "            # and then compute errors here and print them\n",
    "            # TODO ##################################################\n",
    "            valid_error[e] = self.classification_error(X_valid, Y_valid)\n",
    "            if e % 1 == 0:\n",
    "                print('epoch {:.4f}, loss {:.4f}, train error {:.4f}, valid error {:.4f}'.format(e, train_loss[e], train_error[e], valid_error[e]))\n",
    "\n",
    "        #print(\"train_loss\",train_loss)\n",
    "        #print(\"train_error\",train_error)\n",
    "        #print(\"valid_error\",valid_error)\n",
    "        plt.figure(figsize=(12, 8))\n",
    "        plt.plot(train_loss, label='Training loss')\n",
    "        plt.plot(train_error, label='Training error')\n",
    "        plt.plot(valid_error, label='Validation Error')\n",
    "        plt.legend(loc='best')    \n",
    "        plt.show()    \n",
    "    \n",
    "    \n",
    "    def check_gradients(self, X, Y):\n",
    "        \"\"\" Helper function to test the parameter gradients for\n",
    "        correctness. \"\"\"\n",
    "        for l, layer in enumerate(self.layers):\n",
    "            if isinstance(layer, Parameterized):\n",
    "                print('checking gradient for layer {}'.format(l))\n",
    "                #print(layer.activation_fun.temp_name)\n",
    "                for p, param in enumerate(layer.params()):\n",
    "                    # we iterate through all parameters\n",
    "                    param_shape = param.shape\n",
    "                    # define functions for conveniently swapping\n",
    "                    # out parameters of this specific layer and \n",
    "                    # computing loss and gradient with these \n",
    "                    # changed parametrs\n",
    "                    def output_given_params(param_new):\n",
    "                        \"\"\" A function that will compute the output \n",
    "                            of the network given a set of parameters\n",
    "                        \"\"\"\n",
    "                        # copy provided parameters\n",
    "                        param[:] = np.reshape(param_new, param_shape)\n",
    "                        # return computed loss\n",
    "                        return self._loss(X, Y)\n",
    "\n",
    "                    def grad_given_params(param_new):\n",
    "                        \"\"\"A function that will compute the gradient \n",
    "                           of the network given a set of parameters\n",
    "                        \"\"\"\n",
    "                        # copy provided parameters\n",
    "                        param[:] = np.reshape(param_new, param_shape)\n",
    "                        # Forward propagation through the net\n",
    "                        Y_pred = self.predict(X)\n",
    "                        # Backpropagation of partial derivatives\n",
    "                        self.backpropagate(Y, Y_pred, upto=l)\n",
    "                        # return the computed gradient \n",
    "                        return np.ravel(self.layers[l].grad_params()[p])\n",
    "\n",
    "                    # let the initial parameters be the ones that\n",
    "                    # are currently placed in the network and flatten them\n",
    "                    # to a vector for convenient comparisons, printing etc.\n",
    "                    param_init = np.ravel(np.copy(param))\n",
    "                    \n",
    "                    # TODO ####################################\n",
    "                    # TODO compute the gradient with respect to\n",
    "                    #      the initial parameters in two ways:\n",
    "                    #      1) with grad_given_params()\n",
    "                    #      2) with finite differences \n",
    "                    #         using output_given_params()\n",
    "                    #         (as discussed in the lecture)\n",
    "                    #      if your implementation is correct \n",
    "                    #      both results should be epsilon close\n",
    "                    #      to each other!\n",
    "                    # TODO ####################################\n",
    "                    epsilon = 1e-4\n",
    "                    # making sure your gradient checking routine itself \n",
    "                    # has no errors can be a bit tricky. To debug it\n",
    "                    # you can \"cheat\" by using scipy which implements\n",
    "                    # gradient checking exactly the way you should!\n",
    "                    # To do that simply run the following here:\n",
    "                    import scipy.optimize\n",
    "                    err = scipy.optimize.check_grad(output_given_params, grad_given_params, param_init)\n",
    "                    \n",
    "                    \n",
    "                    #loss_base = output_given_params(param_init)\n",
    "                    # TODO this should hold the gradient as calculated through bprop\n",
    "                    #gparam_bprop = grad_given_params(param_init) \n",
    "                    # TODO this should hold the gradient calculated through \n",
    "                    #      finite differences\n",
    "                    #gparam_fd = (output_given_params(param_init+epsilon) - loss_base) / epsilon;\n",
    "                    \n",
    "                    \n",
    "                    # calculate difference between them\n",
    "                    #err = np.mean(np.abs(gparam_bprop - gparam_fd))\n",
    "                    print('2 diff {:.2e}'.format(err))\n",
    "                    assert(err < epsilon)\n",
    "                    \n",
    "                    # reset the parameters to their initial values\n",
    "                    param[:] = np.reshape(param_init, param_shape)"
   ]
  },
  {
   "cell_type": "markdown",
   "metadata": {},
   "source": [
    "# Gradient Checking\n",
    "After implementing everything it is always a good idea to setup some layers and perform gradient\n",
    "checking on random data. **Note** that this is only an example! It is not a useful network architecture ;). We also expect you to play around with this to test all your implemented components."
   ]
  },
  {
   "cell_type": "code",
   "execution_count": 284,
   "metadata": {
    "collapsed": false
   },
   "outputs": [],
   "source": [
    "input_shape = (5, 10)\n",
    "n_labels = 6\n",
    "layers = [InputLayer(input_shape)]\n",
    "\n",
    "layers.append(FullyConnectedLayer(\n",
    "                layers[-1],\n",
    "                num_units=15,\n",
    "                init_stddev=0.1,\n",
    "                activation_fun=Activation('relu')\n",
    "))\n",
    "layers.append(FullyConnectedLayer(\n",
    "                layers[-1],\n",
    "                num_units=15,\n",
    "                init_stddev=0.1,\n",
    "                activation_fun=Activation('relu')\n",
    "))\n",
    "layers.append(FullyConnectedLayer(\n",
    "                layers[-1],\n",
    "                num_units=15,\n",
    "                init_stddev=0.1,\n",
    "                activation_fun=Activation('relu')\n",
    "))\n",
    "layers.append(FullyConnectedLayer(\n",
    "                layers[-1],\n",
    "                num_units=15,\n",
    "                init_stddev=0.1,\n",
    "                activation_fun=Activation('relu')\n",
    "))\n",
    "\n",
    "layers.append(FullyConnectedLayer(\n",
    "                layers[-1],\n",
    "                num_units=6,\n",
    "                init_stddev=0.1,\n",
    "                activation_fun=None\n",
    "))\n",
    "\n",
    "\n",
    "layers.append(SoftmaxOutput(layers[-1]))\n",
    "#layers.append(LinearOutput(layers[-1])) \n",
    "nn = NeuralNetwork(layers)\n"
   ]
  },
  {
   "cell_type": "code",
   "execution_count": 278,
   "metadata": {
    "collapsed": false
   },
   "outputs": [
    {
     "name": "stdout",
     "output_type": "stream",
     "text": [
      "(5, 10)\n",
      "(5, 6)\n"
     ]
    }
   ],
   "source": [
    "# create random data\n",
    "input_shape = (5, 10)\n",
    "n_labels = 6\n",
    "X = np.random.normal(size=input_shape)\n",
    "# and random labels\n",
    "Y = np.zeros((input_shape[0], n_labels))\n",
    "for i in range(Y.shape[0]):\n",
    "    idx = np.random.randint(n_labels)\n",
    "    Y[i, idx] = 1.\n",
    "print(X.shape)\n",
    "print(Y.shape)\n"
   ]
  },
  {
   "cell_type": "code",
   "execution_count": 285,
   "metadata": {
    "collapsed": false
   },
   "outputs": [
    {
     "name": "stdout",
     "output_type": "stream",
     "text": [
      "checking gradient for layer 1\n",
      "2 diff 1.95e-07\n",
      "2 diff 7.62e-08\n",
      "checking gradient for layer 2\n",
      "2 diff 1.64e-07\n",
      "2 diff 5.22e-08\n",
      "checking gradient for layer 3\n",
      "2 diff 1.71e-07\n",
      "2 diff 6.02e-08\n",
      "checking gradient for layer 4\n",
      "2 diff 2.03e-07\n",
      "2 diff 7.86e-08\n",
      "checking gradient for layer 5\n",
      "2 diff 1.66e-07\n",
      "2 diff 5.23e-08\n"
     ]
    }
   ],
   "source": [
    "nn.check_gradients(X, Y)\n"
   ]
  },
  {
   "cell_type": "markdown",
   "metadata": {},
   "source": [
    "# Training on MNIST\n",
    "Finally we can let our network run on the MNIST dataset!"
   ]
  },
  {
   "cell_type": "markdown",
   "metadata": {},
   "source": [
    "First load the data and reshape it."
   ]
  },
  {
   "cell_type": "code",
   "execution_count": 209,
   "metadata": {
    "collapsed": false
   },
   "outputs": [
    {
     "name": "stdout",
     "output_type": "stream",
     "text": [
      "... loading data\n",
      "... done loading data\n",
      "(50000, 1, 28, 28)\n"
     ]
    }
   ],
   "source": [
    "# load\n",
    "Dtrain, Dval, Dtest = mnist()\n",
    "X_train, y_train = Dtrain\n",
    "X_valid, y_valid = Dval\n",
    "print(X_train.shape)\n",
    "# Downsample training data to make it a bit faster for testing this code\n",
    "n_train_samples = 50000\n",
    "train_idxs = np.random.permutation(X_train.shape[0])[:n_train_samples]\n",
    "X_train = X_train[train_idxs]\n",
    "y_train = y_train[train_idxs]"
   ]
  },
  {
   "cell_type": "markdown",
   "metadata": {},
   "source": [
    "*Dtrain* contains 50k images which are of size 28 x 28 pixels. Hence:"
   ]
  },
  {
   "cell_type": "code",
   "execution_count": 210,
   "metadata": {
    "collapsed": false
   },
   "outputs": [
    {
     "name": "stdout",
     "output_type": "stream",
     "text": [
      "X_train shape: (50000, 1, 28, 28)\n",
      "y_train shape: (50000,)\n"
     ]
    }
   ],
   "source": [
    "print(\"X_train shape: {}\".format(np.shape(X_train)))\n",
    "print(\"y_train shape: {}\".format(np.shape(y_train)))"
   ]
  },
  {
   "cell_type": "markdown",
   "metadata": {},
   "source": [
    "y_train will automatically be converted in the *train()* function to one_hot encoding.\n",
    "\n",
    "\n",
    "But we need to reshape X_train, as our Network expects flat vectors of size 28*28 as input!"
   ]
  },
  {
   "cell_type": "code",
   "execution_count": 211,
   "metadata": {
    "collapsed": false
   },
   "outputs": [
    {
     "name": "stdout",
     "output_type": "stream",
     "text": [
      "Reshaped X_train size: (50000, 784)\n",
      "Reshaped X_valid size: (10000, 784)\n"
     ]
    }
   ],
   "source": [
    "X_train = X_train.reshape(X_train.shape[0], -1)\n",
    "print(\"Reshaped X_train size: {}\".format(X_train.shape))\n",
    "X_valid = X_valid.reshape((X_valid.shape[0], -1))\n",
    "print(\"Reshaped X_valid size: {}\".format(X_valid.shape))"
   ]
  },
  {
   "cell_type": "markdown",
   "metadata": {},
   "source": [
    "Ah, much better ;-)! \n",
    "\n",
    "Now we can finally really start training a Network!\n",
    "\n",
    "\n",
    "I pre-defined a small Network for you below. Again This is not really a good default and will not produce state of the art results. Please play around with this a bit. See how different activation functions and training procedures (gd / sgd) affect the result."
   ]
  },
  {
   "cell_type": "code",
   "execution_count": 212,
   "metadata": {
    "collapsed": false
   },
   "outputs": [
    {
     "name": "stdout",
     "output_type": "stream",
     "text": [
      "... starting training\n",
      "epoch 0.0000, loss 0.4255, train error 0.1223, valid error 0.1177\n",
      "epoch 1.0000, loss 0.2380, train error 0.0680, valid error 0.0641\n",
      "epoch 2.0000, loss 0.1691, train error 0.0487, valid error 0.0458\n",
      "epoch 3.0000, loss 0.1233, train error 0.0355, valid error 0.0387\n",
      "epoch 4.0000, loss 0.0933, train error 0.0266, valid error 0.0330\n",
      "epoch 5.0000, loss 0.0764, train error 0.0214, valid error 0.0315\n",
      "epoch 6.0000, loss 0.0634, train error 0.0171, valid error 0.0292\n",
      "epoch 7.0000, loss 0.0557, train error 0.0155, valid error 0.0291\n",
      "epoch 8.0000, loss 0.0488, train error 0.0135, valid error 0.0286\n",
      "epoch 9.0000, loss 0.0424, train error 0.0122, valid error 0.0272\n",
      "epoch 10.0000, loss 0.0364, train error 0.0103, valid error 0.0263\n"
     ]
    },
    {
     "data": {
      "image/png": "[encoded data removed]",
      "text/plain": [
       "<matplotlib.figure.Figure at 0x1e3601cda90>"
      ]
     },
     "metadata": {},
     "output_type": "display_data"
    },
    {
     "name": "stdout",
     "output_type": "stream",
     "text": [
      "Duration: 32.5s\n"
     ]
    }
   ],
   "source": [
    "import time\n",
    "\n",
    "# Setup a small MLP / Neural Network\n",
    "# we can set the first shape to None here to indicate that\n",
    "# we will input a variable number inputs to the network\n",
    "input_shape = (None, 28*28)\n",
    "layers = [InputLayer(input_shape)]\n",
    "layers.append(FullyConnectedLayer(\n",
    "                layers[-1],\n",
    "                num_units=150,\n",
    "                init_stddev=0.01,\n",
    "                activation_fun=Activation('relu')\n",
    "))\n",
    "\n",
    "layers.append(FullyConnectedLayer(\n",
    "                layers[-1],\n",
    "                num_units=100,\n",
    "                init_stddev=0.01,\n",
    "                activation_fun=Activation('relu')\n",
    "))\n",
    "\n",
    "layers.append(FullyConnectedLayer(\n",
    "                layers[-1],\n",
    "                num_units=10,\n",
    "                init_stddev=0.01,\n",
    "                # last layer has no nonlinearity \n",
    "                # (softmax will be applied in the output layer)\n",
    "                activation_fun=None \n",
    "))\n",
    "layers.append(SoftmaxOutput(layers[-1]))\n",
    "\n",
    "nn = NeuralNetwork(layers)\n",
    "# Train neural network\n",
    "t0 = time.time()\n",
    "nn.train(X_train, y_train, X_valid, y_valid, learning_rate=0.1, \n",
    "         max_epochs=10, batch_size=64, descent_type = \"sgd\", update_method=\"vanilla\", y_one_hot=True)\n",
    "t1 = time.time()\n",
    "print('Duration: {:.1f}s'.format(t1-t0))"
   ]
  },
  {
   "cell_type": "markdown",
   "metadata": {
    "collapsed": true
   },
   "source": [
    "# Figure out a reasonable Network that achieves good performance\n",
    "As the last part of this task, setup a network that works well and gets reasonable accuracy, say ~ 1-3 percent error on the **validation set**. \n",
    "Train this network on the complete data and compute the **test error**. \n",
    "\n",
    "Once you have done this, visualize a few digits from the the test set that the network gets right as well as a few that the network gets wrong!"
   ]
  },
  {
   "cell_type": "code",
   "execution_count": 213,
   "metadata": {
    "collapsed": false
   },
   "outputs": [
    {
     "name": "stdout",
     "output_type": "stream",
     "text": [
      "(10000,)\n"
     ]
    }
   ],
   "source": [
    "#Dtrain, Dval, Dtest = mnist()\n",
    "X_test, y_test = Dtest\n",
    "X_test = X_test.reshape(X_test.shape[0], -1)\n",
    "\n",
    "\n",
    "print(y_test.shape)\n",
    "#print(nn.classification_error(X_test, y_test,print_error=True))"
   ]
  },
  {
   "cell_type": "code",
   "execution_count": 214,
   "metadata": {
    "collapsed": false
   },
   "outputs": [
    {
     "name": "stdout",
     "output_type": "stream",
     "text": [
      "... starting training\n",
      "epoch 0.0000, loss 0.1148, train error 0.0379, valid error 0.0379\n",
      "epoch 1.0000, loss 0.0523, train error 0.0177, valid error 0.0169\n",
      "epoch 2.0000, loss 0.0437, train error 0.0142, valid error 0.0128\n",
      "epoch 3.0000, loss 0.0382, train error 0.0123, valid error 0.0103\n",
      "epoch 4.0000, loss 0.0326, train error 0.0103, valid error 0.0085\n",
      "epoch 5.0000, loss 0.0291, train error 0.0095, valid error 0.0080\n",
      "epoch 6.0000, loss 0.0268, train error 0.0087, valid error 0.0072\n",
      "epoch 7.0000, loss 0.0218, train error 0.0069, valid error 0.0053\n",
      "epoch 8.0000, loss 0.0193, train error 0.0061, valid error 0.0042\n",
      "epoch 9.0000, loss 0.0175, train error 0.0053, valid error 0.0038\n",
      "epoch 10.0000, loss 0.0159, train error 0.0050, valid error 0.0031\n"
     ]
    },
    {
     "data": {
      "image/png": "[encoded data removed]",
      "text/plain": [
       "<matplotlib.figure.Figure at 0x1e3000c9710>"
      ]
     },
     "metadata": {},
     "output_type": "display_data"
    },
    {
     "name": "stdout",
     "output_type": "stream",
     "text": [
      "Duration: 37.1s\n"
     ]
    }
   ],
   "source": [
    "nn_full = NeuralNetwork(layers)\n",
    "# Train neural network\n",
    "t0 = time.time()\n",
    "nn_full.train(np.concatenate((X_train,X_valid), axis=0), np.concatenate((y_train,y_valid), axis=0), X_valid, y_valid, learning_rate=0.1, \n",
    "         max_epochs=10, batch_size=64,descent_type = \"sgd\", update_method=\"vanilla\", y_one_hot=True)\n",
    "t1 = time.time()\n",
    "print('Duration: {:.1f}s'.format(t1-t0))\n"
   ]
  },
  {
   "cell_type": "code",
   "execution_count": 215,
   "metadata": {
    "collapsed": false
   },
   "outputs": [
    {
     "name": "stdout",
     "output_type": "stream",
     "text": [
      "Incorrect classification\n",
      "Y 2\n",
      "Y_pred 3\n"
     ]
    },
    {
     "name": "stderr",
     "output_type": "stream",
     "text": [
      "C:\\Users\\Olesya\\Anaconda3\\lib\\site-packages\\ipykernel\\__main__.py:54: VisibleDeprecationWarning: using a non-integer number instead of an integer will result in an error in the future\n",
      "C:\\Users\\Olesya\\Anaconda3\\lib\\site-packages\\ipykernel\\__main__.py:58: VisibleDeprecationWarning: using a non-integer number instead of an integer will result in an error in the future\n"
     ]
    },
    {
     "data": {
      "image/png": "[encoded data removed]",
      "text/plain": [
       "<matplotlib.figure.Figure at 0x1e3000c9d68>"
      ]
     },
     "metadata": {},
     "output_type": "display_data"
    },
    {
     "name": "stdout",
     "output_type": "stream",
     "text": [
      "Y 6\n",
      "Y_pred 5\n"
     ]
    },
    {
     "data": {
      "image/png": "[encoded data removed]",
      "text/plain": [
       "<matplotlib.figure.Figure at 0x1e35f96d390>"
      ]
     },
     "metadata": {},
     "output_type": "display_data"
    },
    {
     "name": "stdout",
     "output_type": "stream",
     "text": [
      "Y 4\n",
      "Y_pred 6\n"
     ]
    },
    {
     "data": {
      "image/png": "[encoded data removed]",
      "text/plain": [
       "<matplotlib.figure.Figure at 0x1e3037d6c88>"
      ]
     },
     "metadata": {},
     "output_type": "display_data"
    },
    {
     "name": "stdout",
     "output_type": "stream",
     "text": [
      "Y 2\n",
      "Y_pred 7\n"
     ]
    },
    {
     "data": {
      "image/png": "[encoded data removed]",
      "text/plain": [
       "<matplotlib.figure.Figure at 0x1e3039286a0>"
      ]
     },
     "metadata": {},
     "output_type": "display_data"
    },
    {
     "name": "stdout",
     "output_type": "stream",
     "text": [
      "Y 2\n",
      "Y_pred 6\n"
     ]
    },
    {
     "data": {
      "image/png": "[encoded data removed]",
      "text/plain": [
       "<matplotlib.figure.Figure at 0x1e3037d6c50>"
      ]
     },
     "metadata": {},
     "output_type": "display_data"
    },
    {
     "name": "stdout",
     "output_type": "stream",
     "text": [
      "*********************************\n",
      "Correct classification\n",
      "Y 7\n"
     ]
    },
    {
     "data": {
      "image/png": "[encoded data removed]",
      "text/plain": [
       "<matplotlib.figure.Figure at 0x1e303979940>"
      ]
     },
     "metadata": {},
     "output_type": "display_data"
    },
    {
     "name": "stdout",
     "output_type": "stream",
     "text": [
      "Y 2\n"
     ]
    },
    {
     "data": {
      "image/png": "[encoded data removed]",
      "text/plain": [
       "<matplotlib.figure.Figure at 0x1e303655160>"
      ]
     },
     "metadata": {},
     "output_type": "display_data"
    },
    {
     "name": "stdout",
     "output_type": "stream",
     "text": [
      "Y 1\n"
     ]
    },
    {
     "data": {
      "image/png": "[encoded data removed]",
      "text/plain": [
       "<matplotlib.figure.Figure at 0x1e3000d6c88>"
      ]
     },
     "metadata": {},
     "output_type": "display_data"
    },
    {
     "name": "stdout",
     "output_type": "stream",
     "text": [
      "Y 0\n"
     ]
    },
    {
     "data": {
      "image/png": "[encoded data removed]",
      "text/plain": [
       "<matplotlib.figure.Figure at 0x1e3000d15f8>"
      ]
     },
     "metadata": {},
     "output_type": "display_data"
    },
    {
     "name": "stdout",
     "output_type": "stream",
     "text": [
      "Y 4\n"
     ]
    },
    {
     "data": {
      "image/png": "[encoded data removed]",
      "text/plain": [
       "<matplotlib.figure.Figure at 0x1e35f757d30>"
      ]
     },
     "metadata": {},
     "output_type": "display_data"
    },
    {
     "name": "stdout",
     "output_type": "stream",
     "text": [
      "0.0254\n",
      "Duration: 1.4s\n"
     ]
    }
   ],
   "source": [
    "t0 = time.time()\n",
    "print(nn_full.classification_error(X_test, y_test,print_error=True))\n",
    "t1 = time.time()\n",
    "print('Duration: {:.1f}s'.format(t1-t0))"
   ]
  }
 ],
 "metadata": {
  "celltoolbar": "Raw Cell Format",
  "kernelspec": {
   "display_name": "Python 3",
   "language": "python",
   "name": "python3"
  },
  "language_info": {
   "codemirror_mode": {
    "name": "ipython",
    "version": 3
   },
   "file_extension": ".py",
   "mimetype": "text/x-python",
   "name": "python",
   "nbconvert_exporter": "python",
   "pygments_lexer": "ipython3",
   "version": "3.6.0"
  }
 },
 "nbformat": 4,
 "nbformat_minor": 0
}
